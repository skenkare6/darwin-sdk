{
 "cells": [
  {
   "cell_type": "markdown",
   "metadata": {},
   "source": [
    "## Setup"
   ]
  },
  {
   "cell_type": "markdown",
   "metadata": {},
   "source": [
    "**Import Statements**"
   ]
  },
  {
   "cell_type": "code",
   "execution_count": 186,
   "metadata": {
    "collapsed": true
   },
   "outputs": [],
   "source": [
    "import os\n",
    "import matplotlib.pyplot as plt\n",
    "import pandas as pd\n",
    "import numpy as np\n",
    "from time import sleep\n",
    "from sklearn.metrics import r2_score\n",
    "from sklearn.feature_selection import VarianceThreshold\n",
    "from sklearn.feature_selection import SelectKBest\n",
    "from sklearn.feature_selection import chi2\n",
    "from sklearn.preprocessing import OneHotEncoder\n",
    "from sklearn.impute import SimpleImputer\n",
    "from amb_sdk.sdk import DarwinSdk"
   ]
  },
  {
   "cell_type": "markdown",
   "metadata": {},
   "source": [
    "**Connection to Darwin**"
   ]
  },
  {
   "cell_type": "code",
   "execution_count": 187,
   "metadata": {
    "collapsed": true
   },
   "outputs": [],
   "source": [
    "# Login\n",
    "ds = DarwinSdk()\n",
    "ds.set_url('https://amb-demo-api.sparkcognition.com/v1/')\n",
    "status, msg = ds.auth_login_user('skenkare@austin.rr.com', 'C9ZcJp32Ze')\n",
    "\n",
    "if not status:\n",
    "    print(msg)\n"
   ]
  },
  {
   "cell_type": "markdown",
   "metadata": {},
   "source": [
    "**Setup Path**"
   ]
  },
  {
   "cell_type": "code",
   "execution_count": 188,
   "metadata": {
    "collapsed": true
   },
   "outputs": [],
   "source": [
    "path = './sets/'"
   ]
  },
  {
   "cell_type": "markdown",
   "metadata": {},
   "source": [
    "## Upload and Read Data"
   ]
  },
  {
   "cell_type": "markdown",
   "metadata": {},
   "source": [
    "**Read Data**"
   ]
  },
  {
   "cell_type": "code",
   "execution_count": 190,
   "metadata": {},
   "outputs": [
    {
     "name": "stderr",
     "output_type": "stream",
     "text": [
      "/home/skenkare/anaconda3/lib/python3.6/site-packages/IPython/core/interactiveshell.py:2717: DtypeWarning: Columns (36) have mixed types. Specify dtype option on import or set low_memory=False.\n",
      "  interactivity=interactivity, compiler=compiler, result=result)\n"
     ]
    }
   ],
   "source": [
    "dataset_name = 'remittances_data.csv'\n",
    "df = pd.read_csv(os.path.join(path, dataset_name))\n",
    "df.head()\n",
    "target = \"speed actual\"\n"
   ]
  },
  {
   "cell_type": "code",
   "execution_count": null,
   "metadata": {
    "collapsed": true,
    "scrolled": true
   },
   "outputs": [],
   "source": [
    "target = \"speed actual\"\n",
    "\n",
    "speed_actual_column = df[target]\n",
    "\n",
    "#replace NaNs\n",
    "imp = SimpleImputer(missing_values=np.nan, strategy='most_frequent')\n",
    "df = imp.fit_transform(df)\n",
    "\n",
    "#fix columns with one hot encoding\n",
    "ohe = OneHotEncoder(handle_unknown='ignore')\n",
    "df.reshape(1, -1)\n",
    "df = ohe.fit_transform(df)\n",
    "\n",
    "#remove columns with low variance\n",
    "selector = VarianceThreshold(threshold=(.8 * (1 - .8)))\n",
    "df = selector.fit_transform(df)\n",
    "\n",
    "#write to csv\n",
    "df = pd.DataFrame(df.toarray())\n",
    "df[\"speed_actual\"] = speed_actual_column\n",
    "df.to_csv(\"./sets/feature_selected.csv\")"
   ]
  },
  {
   "cell_type": "markdown",
   "metadata": {},
   "source": [
    "**Upload to Darwin**"
   ]
  },
  {
   "cell_type": "code",
   "execution_count": 176,
   "metadata": {
    "collapsed": true
   },
   "outputs": [],
   "source": [
    "# Upload dataset, using corrected values\n",
    "dataset_name = \"feature_selected.csv\"\n",
    "status, message = ds.delete_dataset(dataset_name)\n",
    "status, dataset = ds.upload_dataset(os.path.join(path, dataset_name))\n",
    "if not status:\n",
    "    print(dataset)"
   ]
  },
  {
   "cell_type": "markdown",
   "metadata": {},
   "source": [
    "## Clean Data"
   ]
  },
  {
   "cell_type": "code",
   "execution_count": 181,
   "metadata": {},
   "outputs": [
    {
     "name": "stdout",
     "output_type": "stream",
     "text": [
      "{'status': 'Requested', 'starttime': '2019-04-22T09:10:38.213662', 'endtime': None, 'percent_complete': 0, 'job_type': 'CleanDataTiny', 'loss': None, 'generations': None, 'dataset_names': ['feature_selected.csv'], 'artifact_names': ['29f56d63e0814a52b79afac917c46fda'], 'model_name': None, 'job_error': None}\n",
      "{'status': 'Complete', 'starttime': '2019-04-22T09:10:38.213662', 'endtime': '2019-04-22T09:10:44.121322', 'percent_complete': 100, 'job_type': 'CleanDataTiny', 'loss': None, 'generations': None, 'dataset_names': ['feature_selected.csv'], 'artifact_names': ['29f56d63e0814a52b79afac917c46fda'], 'model_name': None, 'job_error': ''}\n"
     ]
    }
   ],
   "source": [
    "# clean dataset\n",
    "target = \"speed_actual\"\n",
    "status, job_id = ds.clean_data(dataset_name, target=target)\n",
    "\n",
    "if status:\n",
    "    ds.wait_for_job(job_id['job_name'])\n",
    "else:\n",
    "    print(job_id)\n",
    "    \n"
   ]
  },
  {
   "cell_type": "markdown",
   "metadata": {},
   "source": [
    "## Create and Train Model"
   ]
  },
  {
   "cell_type": "code",
   "execution_count": 185,
   "metadata": {},
   "outputs": [
    {
     "name": "stdout",
     "output_type": "stream",
     "text": [
      "{'status': 'Requested', 'starttime': '2019-04-22T09:19:43.715248', 'endtime': None, 'percent_complete': 0, 'job_type': 'TrainModel', 'loss': None, 'generations': 0, 'dataset_names': ['feature_selected.csv'], 'artifact_names': None, 'model_name': 'speed_actual_model1', 'job_error': None}\n",
      "{'status': 'Running', 'starttime': '2019-04-22T09:19:43.715248', 'endtime': None, 'percent_complete': 0, 'job_type': 'TrainModel', 'loss': None, 'generations': 0, 'dataset_names': ['feature_selected.csv'], 'artifact_names': None, 'model_name': 'speed_actual_model1', 'job_error': ''}\n",
      "{'status': 'Running', 'starttime': '2019-04-22T09:19:43.715248', 'endtime': None, 'percent_complete': 0, 'job_type': 'TrainModel', 'loss': None, 'generations': 0, 'dataset_names': ['feature_selected.csv'], 'artifact_names': None, 'model_name': 'speed_actual_model1', 'job_error': ''}\n",
      "{'status': 'Running', 'starttime': '2019-04-22T09:19:43.715248', 'endtime': None, 'percent_complete': 0, 'job_type': 'TrainModel', 'loss': None, 'generations': 0, 'dataset_names': ['feature_selected.csv'], 'artifact_names': None, 'model_name': 'speed_actual_model1', 'job_error': ''}\n",
      "{'status': 'Running', 'starttime': '2019-04-22T09:19:43.715248', 'endtime': None, 'percent_complete': 0, 'job_type': 'TrainModel', 'loss': None, 'generations': 0, 'dataset_names': ['feature_selected.csv'], 'artifact_names': None, 'model_name': 'speed_actual_model1', 'job_error': ''}\n",
      "{'status': 'Running', 'starttime': '2019-04-22T09:19:43.715248', 'endtime': None, 'percent_complete': 0, 'job_type': 'TrainModel', 'loss': None, 'generations': 0, 'dataset_names': ['feature_selected.csv'], 'artifact_names': None, 'model_name': 'speed_actual_model1', 'job_error': ''}\n",
      "{'status': 'Running', 'starttime': '2019-04-22T09:19:43.715248', 'endtime': None, 'percent_complete': 0, 'job_type': 'TrainModel', 'loss': None, 'generations': 0, 'dataset_names': ['feature_selected.csv'], 'artifact_names': None, 'model_name': 'speed_actual_model1', 'job_error': ''}\n",
      "{'status': 'Running', 'starttime': '2019-04-22T09:19:43.715248', 'endtime': None, 'percent_complete': 0, 'job_type': 'TrainModel', 'loss': None, 'generations': 0, 'dataset_names': ['feature_selected.csv'], 'artifact_names': None, 'model_name': 'speed_actual_model1', 'job_error': ''}\n",
      "{'status': 'Running', 'starttime': '2019-04-22T09:19:43.715248', 'endtime': None, 'percent_complete': 0, 'job_type': 'TrainModel', 'loss': None, 'generations': 0, 'dataset_names': ['feature_selected.csv'], 'artifact_names': None, 'model_name': 'speed_actual_model1', 'job_error': ''}\n",
      "{'status': 'Failed', 'starttime': '2019-04-22T09:19:43.715248', 'endtime': '2019-04-22T09:21:50.625604', 'percent_complete': 100, 'job_type': 'TrainModel', 'loss': None, 'generations': 0, 'dataset_names': ['feature_selected.csv'], 'artifact_names': None, 'model_name': 'speed_actual_model1', 'job_error': ''}\n"
     ]
    }
   ],
   "source": [
    "model = target + \"_model1\"\n",
    "ds.delete_model(model)\n",
    "status, job_id = ds.create_model(dataset_names = dataset_name, \\\n",
    "                                 model_name =  model, \\\n",
    "                                 max_train_time = '00:02')\n",
    "if status:\n",
    "    ds.wait_for_job(job_id['job_name'])\n",
    "else:\n",
    "    print(job_id)"
   ]
  },
  {
   "cell_type": "markdown",
   "metadata": {},
   "source": [
    "## Analyze Data"
   ]
  },
  {
   "cell_type": "code",
   "execution_count": 93,
   "metadata": {},
   "outputs": [
    {
     "name": "stdout",
     "output_type": "stream",
     "text": [
      "{'status': 'Running', 'starttime': '2019-04-21T16:16:20.222567', 'endtime': None, 'percent_complete': 0, 'job_type': 'AnalyzeModel', 'loss': 1.2975388765335083, 'generations': 7, 'dataset_names': None, 'artifact_names': ['72264dc5397b4407a0596f55696f3a81'], 'model_name': 'speed_actual_model1', 'job_error': ''}\n",
      "{'status': 'Complete', 'starttime': '2019-04-21T16:16:20.222567', 'endtime': '2019-04-21T16:16:23.362772', 'percent_complete': 100, 'job_type': 'AnalyzeModel', 'loss': 1.2975388765335083, 'generations': 7, 'dataset_names': None, 'artifact_names': ['72264dc5397b4407a0596f55696f3a81'], 'model_name': 'speed_actual_model1', 'job_error': ''}\n"
     ]
    }
   ],
   "source": [
    "# Retrieve feature importance of built model\n",
    "status, artifact = ds.analyze_model(model)\n",
    "sleep(1)\n",
    "if status:\n",
    "    ds.wait_for_job(artifact['job_name'])\n",
    "else:\n",
    "    print(artifact)\n",
    "status, feature_importance = ds.download_artifact(artifact['artifact_name'])"
   ]
  },
  {
   "cell_type": "code",
   "execution_count": 94,
   "metadata": {},
   "outputs": [
    {
     "data": {
      "text/plain": [
       "15 = 1.0      0.410305\n",
       "Unnamed: 0    0.091621\n",
       "11 = 1.0      0.089349\n",
       "10 = 1.0      0.058349\n",
       "13 = 1.0      0.033356\n",
       "12 = 1.0      0.030955\n",
       "22 = 1.0      0.026578\n",
       "3 = 1.0       0.026189\n",
       "23 = 1.0      0.020813\n",
       "7 = 1.0       0.019945\n",
       "dtype: float64"
      ]
     },
     "execution_count": 94,
     "metadata": {},
     "output_type": "execute_result"
    }
   ],
   "source": [
    "feature_importance[:10]"
   ]
  },
  {
   "cell_type": "markdown",
   "metadata": {},
   "source": [
    "**Model Prediction**"
   ]
  },
  {
   "cell_type": "code",
   "execution_count": 95,
   "metadata": {},
   "outputs": [
    {
     "name": "stdout",
     "output_type": "stream",
     "text": [
      "{'status': 'Running', 'starttime': '2019-04-21T16:17:38.32746', 'endtime': None, 'percent_complete': 0, 'job_type': 'RunModel', 'loss': 1.2975388765335083, 'generations': 7, 'dataset_names': ['feature_selected.csv'], 'artifact_names': ['31d5383faa314cf28b8800a68b693889'], 'model_name': 'speed_actual_model1', 'job_error': ''}\n",
      "{'status': 'Complete', 'starttime': '2019-04-21T16:17:38.32746', 'endtime': '2019-04-21T16:17:40.453964', 'percent_complete': 100, 'job_type': 'RunModel', 'loss': 1.2975388765335083, 'generations': 7, 'dataset_names': ['feature_selected.csv'], 'artifact_names': ['31d5383faa314cf28b8800a68b693889'], 'model_name': 'speed_actual_model1', 'job_error': ''}\n"
     ]
    },
    {
     "data": {
      "text/plain": [
       "(True, 'Job completed')"
      ]
     },
     "execution_count": 95,
     "metadata": {},
     "output_type": "execute_result"
    }
   ],
   "source": [
    "status, artifact = ds.run_model(dataset_name, model)\n",
    "sleep(1)\n",
    "ds.wait_for_job(artifact['job_name'])"
   ]
  },
  {
   "cell_type": "markdown",
   "metadata": {},
   "source": [
    "**Get Predictions from Darwin**"
   ]
  },
  {
   "cell_type": "code",
   "execution_count": 96,
   "metadata": {},
   "outputs": [
    {
     "data": {
      "text/html": [
       "<div>\n",
       "<style>\n",
       "    .dataframe thead tr:only-child th {\n",
       "        text-align: right;\n",
       "    }\n",
       "\n",
       "    .dataframe thead th {\n",
       "        text-align: left;\n",
       "    }\n",
       "\n",
       "    .dataframe tbody tr th {\n",
       "        vertical-align: top;\n",
       "    }\n",
       "</style>\n",
       "<table border=\"1\" class=\"dataframe\">\n",
       "  <thead>\n",
       "    <tr style=\"text-align: right;\">\n",
       "      <th></th>\n",
       "      <th>prob_2 days</th>\n",
       "      <th>prob_3-5 days</th>\n",
       "      <th>prob_6 days or more</th>\n",
       "      <th>prob_Less than one hour</th>\n",
       "      <th>prob_Next day</th>\n",
       "      <th>prob_Same day</th>\n",
       "      <th>speed_actual</th>\n",
       "    </tr>\n",
       "  </thead>\n",
       "  <tbody>\n",
       "    <tr>\n",
       "      <th>0</th>\n",
       "      <td>0.000087</td>\n",
       "      <td>0.000082</td>\n",
       "      <td>0.000336</td>\n",
       "      <td>0.999298</td>\n",
       "      <td>0.000105</td>\n",
       "      <td>0.000093</td>\n",
       "      <td>Less than one hour</td>\n",
       "    </tr>\n",
       "    <tr>\n",
       "      <th>1</th>\n",
       "      <td>0.171699</td>\n",
       "      <td>0.103797</td>\n",
       "      <td>0.002149</td>\n",
       "      <td>0.001470</td>\n",
       "      <td>0.304412</td>\n",
       "      <td>0.416473</td>\n",
       "      <td>Same day</td>\n",
       "    </tr>\n",
       "    <tr>\n",
       "      <th>2</th>\n",
       "      <td>0.339851</td>\n",
       "      <td>0.273678</td>\n",
       "      <td>0.056500</td>\n",
       "      <td>0.004455</td>\n",
       "      <td>0.269343</td>\n",
       "      <td>0.056173</td>\n",
       "      <td>2 days</td>\n",
       "    </tr>\n",
       "    <tr>\n",
       "      <th>3</th>\n",
       "      <td>0.000087</td>\n",
       "      <td>0.000082</td>\n",
       "      <td>0.000092</td>\n",
       "      <td>0.999539</td>\n",
       "      <td>0.000107</td>\n",
       "      <td>0.000093</td>\n",
       "      <td>Less than one hour</td>\n",
       "    </tr>\n",
       "    <tr>\n",
       "      <th>4</th>\n",
       "      <td>0.000087</td>\n",
       "      <td>0.000082</td>\n",
       "      <td>0.000092</td>\n",
       "      <td>0.999539</td>\n",
       "      <td>0.000107</td>\n",
       "      <td>0.000093</td>\n",
       "      <td>Less than one hour</td>\n",
       "    </tr>\n",
       "  </tbody>\n",
       "</table>\n",
       "</div>"
      ],
      "text/plain": [
       "   prob_2 days  prob_3-5 days  prob_6 days or more  prob_Less than one hour  \\\n",
       "0     0.000087       0.000082             0.000336                 0.999298   \n",
       "1     0.171699       0.103797             0.002149                 0.001470   \n",
       "2     0.339851       0.273678             0.056500                 0.004455   \n",
       "3     0.000087       0.000082             0.000092                 0.999539   \n",
       "4     0.000087       0.000082             0.000092                 0.999539   \n",
       "\n",
       "   prob_Next day  prob_Same day        speed_actual  \n",
       "0       0.000105       0.000093  Less than one hour  \n",
       "1       0.304412       0.416473            Same day  \n",
       "2       0.269343       0.056173              2 days  \n",
       "3       0.000107       0.000093  Less than one hour  \n",
       "4       0.000107       0.000093  Less than one hour  "
      ]
     },
     "execution_count": 96,
     "metadata": {},
     "output_type": "execute_result"
    }
   ],
   "source": [
    "status, prediction = ds.download_artifact(artifact['artifact_name'])\n",
    "#print(prediction)\n",
    "prediction.head()"
   ]
  },
  {
   "cell_type": "code",
   "execution_count": 97,
   "metadata": {},
   "outputs": [
    {
     "name": "stdout",
     "output_type": "stream",
     "text": [
      "45748\n"
     ]
    },
    {
     "data": {
      "image/png": "[encoded data removed]",
      "text/plain": [
       "<matplotlib.figure.Figure at 0x7fc04824cfd0>"
      ]
     },
     "metadata": {},
     "output_type": "display_data"
    },
    {
     "name": "stdout",
     "output_type": "stream",
     "text": [
      "R^2 :  0.7624481478976393\n"
     ]
    }
   ],
   "source": [
    "#Plot predictions vs actual\n",
    "print(len(prediction[target]))\n",
    "\n",
    "#Encode all values so that it can be graphed, needs numbers\n",
    "prediction[target] = prediction[target].replace('Less than one hour', 0)\n",
    "df[target] = df[target].replace('Less than one hour', 0)\n",
    "prediction[target] = prediction[target].replace('Same day', 1)\n",
    "df[target] = df[target].replace('Same day', 1)\n",
    "prediction[target] = prediction[target].replace('Next day', 2)\n",
    "df[target] = df[target].replace('Next day', 2)\n",
    "prediction[target] = prediction[target].replace('2 days', 3)\n",
    "df[target] = df[target].replace('2 days', 3)\n",
    "prediction[target] = prediction[target].replace('3-5 days', 4)\n",
    "df[target] = df[target].replace('3-5 days', 4)\n",
    "prediction[target] = prediction[target].replace('6 days or more', 5)\n",
    "df[target] = df[target].replace('6 days or more', 5)\n",
    "plt.plot(df[target], prediction[target], '.')\n",
    "plt.plot([0,2.3e7],[0,2.3e7],'--k')\n",
    "plt.show()\n",
    "print('R^2 : ', r2_score(df[target], prediction[target]))"
   ]
  },
  {
   "cell_type": "code",
   "execution_count": null,
   "metadata": {
    "collapsed": true
   },
   "outputs": [],
   "source": []
  },
  {
   "cell_type": "code",
   "execution_count": null,
   "metadata": {
    "collapsed": true
   },
   "outputs": [],
   "source": []
  }
 ],
 "metadata": {
  "kernelspec": {
   "display_name": "Python 3",
   "language": "python",
   "name": "python3"
  },
  "language_info": {
   "codemirror_mode": {
    "name": "ipython",
    "version": 3
   },
   "file_extension": ".py",
   "mimetype": "text/x-python",
   "name": "python",
   "nbconvert_exporter": "python",
   "pygments_lexer": "ipython3",
   "version": "3.6.1"
  }
 },
 "nbformat": 4,
 "nbformat_minor": 2
}
