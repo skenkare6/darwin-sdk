{
 "cells": [
  {
   "cell_type": "markdown",
   "metadata": {},
   "source": [
    "## Setup"
   ]
  },
  {
   "cell_type": "markdown",
   "metadata": {},
   "source": [
    "**Import Statements**"
   ]
  },
  {
   "cell_type": "code",
   "execution_count": 1,
   "metadata": {},
   "outputs": [],
   "source": [
    "import os\n",
    "import matplotlib.pyplot as plt\n",
    "import pandas as pd\n",
    "from time import sleep\n",
    "from sklearn.metrics import r2_score\n",
    "from amb_sdk.sdk import DarwinSdk"
   ]
  },
  {
   "cell_type": "markdown",
   "metadata": {},
   "source": [
    "**Connection to Darwin**"
   ]
  },
  {
   "cell_type": "code",
   "execution_count": 2,
   "metadata": {},
   "outputs": [],
   "source": [
    "# Login\n",
    "ds = DarwinSdk()\n",
    "ds.set_url('https://amb-demo-api.sparkcognition.com/v1/')\n",
    "status, msg = ds.auth_login_user('mprost@utexas.edu', 'FbSnZ663sf')\n",
    "\n",
    "if not status:\n",
    "    print(msg)\n"
   ]
  },
  {
   "cell_type": "markdown",
   "metadata": {},
   "source": [
    "**Setup Path**"
   ]
  },
  {
   "cell_type": "code",
   "execution_count": 3,
   "metadata": {},
   "outputs": [],
   "source": [
    "path = './sets/'"
   ]
  },
  {
   "cell_type": "markdown",
   "metadata": {},
   "source": [
    "## Upload and Read Data"
   ]
  },
  {
   "cell_type": "markdown",
   "metadata": {},
   "source": [
    "**Read Data**"
   ]
  },
  {
   "cell_type": "code",
   "execution_count": 4,
   "metadata": {
    "scrolled": false
   },
   "outputs": [
    {
     "name": "stderr",
     "output_type": "stream",
     "text": [
      "/Users/Matt/anaconda3/lib/python3.7/site-packages/IPython/core/interactiveshell.py:3020: DtypeWarning: Columns (36) have mixed types. Specify dtype option on import or set low_memory=False.\n",
      "  interactivity=interactivity, compiler=compiler, result=result)\n"
     ]
    },
    {
     "data": {
      "text/html": [
       "<div>\n",
       "<style scoped>\n",
       "    .dataframe tbody tr th:only-of-type {\n",
       "        vertical-align: middle;\n",
       "    }\n",
       "\n",
       "    .dataframe tbody tr th {\n",
       "        vertical-align: top;\n",
       "    }\n",
       "\n",
       "    .dataframe thead th {\n",
       "        text-align: right;\n",
       "    }\n",
       "</style>\n",
       "<table border=\"1\" class=\"dataframe\">\n",
       "  <thead>\n",
       "    <tr style=\"text-align: right;\">\n",
       "      <th></th>\n",
       "      <th>period</th>\n",
       "      <th>source_code</th>\n",
       "      <th>source_name</th>\n",
       "      <th>source_region</th>\n",
       "      <th>source_income</th>\n",
       "      <th>source_lending</th>\n",
       "      <th>source_G8G20</th>\n",
       "      <th>destination_code</th>\n",
       "      <th>destination_name</th>\n",
       "      <th>destination_region</th>\n",
       "      <th>...</th>\n",
       "      <th>cc2 lcu code</th>\n",
       "      <th>cc2 lcu fee</th>\n",
       "      <th>cc2 lcu fx rate</th>\n",
       "      <th>cc2 fx margin</th>\n",
       "      <th>cc2 total cost %</th>\n",
       "      <th>inter lcu bank fx</th>\n",
       "      <th>transparent</th>\n",
       "      <th>receiving network coverage</th>\n",
       "      <th>pickup method</th>\n",
       "      <th>corridor</th>\n",
       "    </tr>\n",
       "  </thead>\n",
       "  <tbody>\n",
       "    <tr>\n",
       "      <th>0</th>\n",
       "      <td>2016_2Q</td>\n",
       "      <td>AGO</td>\n",
       "      <td>Angola</td>\n",
       "      <td>Sub-Saharan Africa</td>\n",
       "      <td>Lower middle income</td>\n",
       "      <td>IBRD</td>\n",
       "      <td>..</td>\n",
       "      <td>NAM</td>\n",
       "      <td>Namibia</td>\n",
       "      <td>Sub-Saharan Africa</td>\n",
       "      <td>...</td>\n",
       "      <td>AOA</td>\n",
       "      <td>5700.0</td>\n",
       "      <td>0.08</td>\n",
       "      <td>7.49</td>\n",
       "      <td>14.36</td>\n",
       "      <td>0.09</td>\n",
       "      <td>yes</td>\n",
       "      <td>High</td>\n",
       "      <td>Agent</td>\n",
       "      <td>AGONAM</td>\n",
       "    </tr>\n",
       "    <tr>\n",
       "      <th>1</th>\n",
       "      <td>2016_2Q</td>\n",
       "      <td>AGO</td>\n",
       "      <td>Angola</td>\n",
       "      <td>Sub-Saharan Africa</td>\n",
       "      <td>Lower middle income</td>\n",
       "      <td>IBRD</td>\n",
       "      <td>..</td>\n",
       "      <td>NAM</td>\n",
       "      <td>Namibia</td>\n",
       "      <td>Sub-Saharan Africa</td>\n",
       "      <td>...</td>\n",
       "      <td>AOA</td>\n",
       "      <td>6300.0</td>\n",
       "      <td>0.09</td>\n",
       "      <td>4.19</td>\n",
       "      <td>11.78</td>\n",
       "      <td>0.09</td>\n",
       "      <td>yes</td>\n",
       "      <td>High</td>\n",
       "      <td>Agent</td>\n",
       "      <td>AGONAM</td>\n",
       "    </tr>\n",
       "    <tr>\n",
       "      <th>2</th>\n",
       "      <td>2016_2Q</td>\n",
       "      <td>AGO</td>\n",
       "      <td>Angola</td>\n",
       "      <td>Sub-Saharan Africa</td>\n",
       "      <td>Lower middle income</td>\n",
       "      <td>IBRD</td>\n",
       "      <td>..</td>\n",
       "      <td>NAM</td>\n",
       "      <td>Namibia</td>\n",
       "      <td>Sub-Saharan Africa</td>\n",
       "      <td>...</td>\n",
       "      <td>AOA</td>\n",
       "      <td>9075.0</td>\n",
       "      <td>1.00</td>\n",
       "      <td>0.00</td>\n",
       "      <td>10.93</td>\n",
       "      <td>1.00</td>\n",
       "      <td>no</td>\n",
       "      <td>Low</td>\n",
       "      <td>NaN</td>\n",
       "      <td>AGONAM</td>\n",
       "    </tr>\n",
       "    <tr>\n",
       "      <th>3</th>\n",
       "      <td>2016_2Q</td>\n",
       "      <td>ARE</td>\n",
       "      <td>United Arab Emirates</td>\n",
       "      <td>Middle East &amp; North Africa</td>\n",
       "      <td>High income</td>\n",
       "      <td>..</td>\n",
       "      <td>..</td>\n",
       "      <td>BGD</td>\n",
       "      <td>Bangladesh</td>\n",
       "      <td>South Asia</td>\n",
       "      <td>...</td>\n",
       "      <td>AED</td>\n",
       "      <td>20.0</td>\n",
       "      <td>21.32</td>\n",
       "      <td>0.08</td>\n",
       "      <td>1.17</td>\n",
       "      <td>21.34</td>\n",
       "      <td>yes</td>\n",
       "      <td>High</td>\n",
       "      <td>Agent</td>\n",
       "      <td>AREBGD</td>\n",
       "    </tr>\n",
       "    <tr>\n",
       "      <th>4</th>\n",
       "      <td>2016_2Q</td>\n",
       "      <td>ARE</td>\n",
       "      <td>United Arab Emirates</td>\n",
       "      <td>Middle East &amp; North Africa</td>\n",
       "      <td>High income</td>\n",
       "      <td>..</td>\n",
       "      <td>..</td>\n",
       "      <td>BGD</td>\n",
       "      <td>Bangladesh</td>\n",
       "      <td>South Asia</td>\n",
       "      <td>...</td>\n",
       "      <td>AED</td>\n",
       "      <td>15.0</td>\n",
       "      <td>21.31</td>\n",
       "      <td>0.13</td>\n",
       "      <td>0.95</td>\n",
       "      <td>21.34</td>\n",
       "      <td>yes</td>\n",
       "      <td>High</td>\n",
       "      <td>Agent</td>\n",
       "      <td>AREBGD</td>\n",
       "    </tr>\n",
       "  </tbody>\n",
       "</table>\n",
       "<p>5 rows × 32 columns</p>\n",
       "</div>"
      ],
      "text/plain": [
       "    period source_code           source_name               source_region  \\\n",
       "0  2016_2Q         AGO                Angola          Sub-Saharan Africa   \n",
       "1  2016_2Q         AGO                Angola          Sub-Saharan Africa   \n",
       "2  2016_2Q         AGO                Angola          Sub-Saharan Africa   \n",
       "3  2016_2Q         ARE  United Arab Emirates  Middle East & North Africa   \n",
       "4  2016_2Q         ARE  United Arab Emirates  Middle East & North Africa   \n",
       "\n",
       "         source_income source_lending source_G8G20 destination_code  \\\n",
       "0  Lower middle income           IBRD           ..              NAM   \n",
       "1  Lower middle income           IBRD           ..              NAM   \n",
       "2  Lower middle income           IBRD           ..              NAM   \n",
       "3          High income             ..           ..              BGD   \n",
       "4          High income             ..           ..              BGD   \n",
       "\n",
       "  destination_name  destination_region    ...    cc2 lcu code cc2 lcu fee  \\\n",
       "0          Namibia  Sub-Saharan Africa    ...             AOA      5700.0   \n",
       "1          Namibia  Sub-Saharan Africa    ...             AOA      6300.0   \n",
       "2          Namibia  Sub-Saharan Africa    ...             AOA      9075.0   \n",
       "3       Bangladesh          South Asia    ...             AED        20.0   \n",
       "4       Bangladesh          South Asia    ...             AED        15.0   \n",
       "\n",
       "  cc2 lcu fx rate cc2 fx margin cc2 total cost % inter lcu bank fx  \\\n",
       "0            0.08          7.49            14.36              0.09   \n",
       "1            0.09          4.19            11.78              0.09   \n",
       "2            1.00          0.00            10.93              1.00   \n",
       "3           21.32          0.08             1.17             21.34   \n",
       "4           21.31          0.13             0.95             21.34   \n",
       "\n",
       "  transparent receiving network coverage  pickup method  corridor  \n",
       "0         yes                       High          Agent    AGONAM  \n",
       "1         yes                       High          Agent    AGONAM  \n",
       "2          no                        Low            NaN    AGONAM  \n",
       "3         yes                       High          Agent    AREBGD  \n",
       "4         yes                       High          Agent    AREBGD  \n",
       "\n",
       "[5 rows x 32 columns]"
      ]
     },
     "execution_count": 4,
     "metadata": {},
     "output_type": "execute_result"
    }
   ],
   "source": [
    "dataset_name = 'remittances_data_q2.csv'\n",
    "df = pd.read_csv(os.path.join(path, dataset_name))\n",
    "df = df.drop(columns=['id', 'firm', 'cc1 lcu amount', 'cc1 denomination amount', \n",
    "                      'cc2 lcu amount', 'cc2 denomination amount', \n",
    "                      'Standard Note', 'note2', 'date'])\n",
    "df.to_csv('./sets/remittances_data_q2__tcp_cleaned3.csv', index=False)\n",
    "dataset_name = 'remittances_data_q2__tcp_cleaned3.csv'\n",
    "df.head()"
   ]
  },
  {
   "cell_type": "markdown",
   "metadata": {},
   "source": [
    "**Upload to Darwin**"
   ]
  },
  {
   "cell_type": "code",
   "execution_count": 5,
   "metadata": {},
   "outputs": [],
   "source": [
    "# Upload dataset\n",
    "status, message = ds.delete_dataset(dataset_name)\n",
    "status, dataset = ds.upload_dataset(os.path.join(path, dataset_name))\n",
    "if not status:\n",
    "    print(dataset)"
   ]
  },
  {
   "cell_type": "markdown",
   "metadata": {},
   "source": [
    "## Clean Data"
   ]
  },
  {
   "cell_type": "code",
   "execution_count": 6,
   "metadata": {
    "scrolled": false
   },
   "outputs": [
    {
     "name": "stdout",
     "output_type": "stream",
     "text": [
      "{'status': 'Requested', 'starttime': '2019-04-22T17:14:44.64079', 'endtime': None, 'percent_complete': 0, 'job_type': 'CleanDataTiny', 'loss': None, 'generations': None, 'dataset_names': ['remittances_data_q2__tcp_cleaned3.csv'], 'artifact_names': ['efae012e294746289b1d00d1be24cad4'], 'model_name': None, 'job_error': None}\n",
      "{'status': 'Requested', 'starttime': '2019-04-22T17:14:44.64079', 'endtime': None, 'percent_complete': 0, 'job_type': 'CleanDataTiny', 'loss': None, 'generations': None, 'dataset_names': ['remittances_data_q2__tcp_cleaned3.csv'], 'artifact_names': ['efae012e294746289b1d00d1be24cad4'], 'model_name': None, 'job_error': None}\n",
      "{'status': 'Requested', 'starttime': '2019-04-22T17:14:44.64079', 'endtime': None, 'percent_complete': 0, 'job_type': 'CleanDataTiny', 'loss': None, 'generations': None, 'dataset_names': ['remittances_data_q2__tcp_cleaned3.csv'], 'artifact_names': ['efae012e294746289b1d00d1be24cad4'], 'model_name': None, 'job_error': None}\n",
      "{'status': 'Requested', 'starttime': '2019-04-22T17:14:44.64079', 'endtime': None, 'percent_complete': 0, 'job_type': 'CleanDataTiny', 'loss': None, 'generations': None, 'dataset_names': ['remittances_data_q2__tcp_cleaned3.csv'], 'artifact_names': ['efae012e294746289b1d00d1be24cad4'], 'model_name': None, 'job_error': None}\n",
      "{'status': 'Requested', 'starttime': '2019-04-22T17:14:44.64079', 'endtime': None, 'percent_complete': 0, 'job_type': 'CleanDataTiny', 'loss': None, 'generations': None, 'dataset_names': ['remittances_data_q2__tcp_cleaned3.csv'], 'artifact_names': ['efae012e294746289b1d00d1be24cad4'], 'model_name': None, 'job_error': None}\n",
      "{'status': 'Requested', 'starttime': '2019-04-22T17:14:44.64079', 'endtime': None, 'percent_complete': 0, 'job_type': 'CleanDataTiny', 'loss': None, 'generations': None, 'dataset_names': ['remittances_data_q2__tcp_cleaned3.csv'], 'artifact_names': ['efae012e294746289b1d00d1be24cad4'], 'model_name': None, 'job_error': None}\n",
      "{'status': 'Requested', 'starttime': '2019-04-22T17:14:44.64079', 'endtime': None, 'percent_complete': 0, 'job_type': 'CleanDataTiny', 'loss': None, 'generations': None, 'dataset_names': ['remittances_data_q2__tcp_cleaned3.csv'], 'artifact_names': ['efae012e294746289b1d00d1be24cad4'], 'model_name': None, 'job_error': None}\n",
      "{'status': 'Requested', 'starttime': '2019-04-22T17:14:44.64079', 'endtime': None, 'percent_complete': 0, 'job_type': 'CleanDataTiny', 'loss': None, 'generations': None, 'dataset_names': ['remittances_data_q2__tcp_cleaned3.csv'], 'artifact_names': ['efae012e294746289b1d00d1be24cad4'], 'model_name': None, 'job_error': None}\n",
      "{'status': 'Requested', 'starttime': '2019-04-22T17:14:44.64079', 'endtime': None, 'percent_complete': 0, 'job_type': 'CleanDataTiny', 'loss': None, 'generations': None, 'dataset_names': ['remittances_data_q2__tcp_cleaned3.csv'], 'artifact_names': ['efae012e294746289b1d00d1be24cad4'], 'model_name': None, 'job_error': None}\n",
      "{'status': 'Requested', 'starttime': '2019-04-22T17:14:44.64079', 'endtime': None, 'percent_complete': 0, 'job_type': 'CleanDataTiny', 'loss': None, 'generations': None, 'dataset_names': ['remittances_data_q2__tcp_cleaned3.csv'], 'artifact_names': ['efae012e294746289b1d00d1be24cad4'], 'model_name': None, 'job_error': None}\n",
      "{'status': 'Requested', 'starttime': '2019-04-22T17:14:44.64079', 'endtime': None, 'percent_complete': 0, 'job_type': 'CleanDataTiny', 'loss': None, 'generations': None, 'dataset_names': ['remittances_data_q2__tcp_cleaned3.csv'], 'artifact_names': ['efae012e294746289b1d00d1be24cad4'], 'model_name': None, 'job_error': None}\n",
      "{'status': 'Requested', 'starttime': '2019-04-22T17:14:44.64079', 'endtime': None, 'percent_complete': 0, 'job_type': 'CleanDataTiny', 'loss': None, 'generations': None, 'dataset_names': ['remittances_data_q2__tcp_cleaned3.csv'], 'artifact_names': ['efae012e294746289b1d00d1be24cad4'], 'model_name': None, 'job_error': None}\n",
      "{'status': 'Requested', 'starttime': '2019-04-22T17:14:44.64079', 'endtime': None, 'percent_complete': 0, 'job_type': 'CleanDataTiny', 'loss': None, 'generations': None, 'dataset_names': ['remittances_data_q2__tcp_cleaned3.csv'], 'artifact_names': ['efae012e294746289b1d00d1be24cad4'], 'model_name': None, 'job_error': None}\n",
      "{'status': 'Requested', 'starttime': '2019-04-22T17:14:44.64079', 'endtime': None, 'percent_complete': 0, 'job_type': 'CleanDataTiny', 'loss': None, 'generations': None, 'dataset_names': ['remittances_data_q2__tcp_cleaned3.csv'], 'artifact_names': ['efae012e294746289b1d00d1be24cad4'], 'model_name': None, 'job_error': None}\n",
      "{'status': 'Requested', 'starttime': '2019-04-22T17:14:44.64079', 'endtime': None, 'percent_complete': 0, 'job_type': 'CleanDataTiny', 'loss': None, 'generations': None, 'dataset_names': ['remittances_data_q2__tcp_cleaned3.csv'], 'artifact_names': ['efae012e294746289b1d00d1be24cad4'], 'model_name': None, 'job_error': None}\n",
      "{'status': 'Requested', 'starttime': '2019-04-22T17:14:44.64079', 'endtime': None, 'percent_complete': 0, 'job_type': 'CleanDataTiny', 'loss': None, 'generations': None, 'dataset_names': ['remittances_data_q2__tcp_cleaned3.csv'], 'artifact_names': ['efae012e294746289b1d00d1be24cad4'], 'model_name': None, 'job_error': None}\n",
      "{'status': 'Requested', 'starttime': '2019-04-22T17:14:44.64079', 'endtime': None, 'percent_complete': 0, 'job_type': 'CleanDataTiny', 'loss': None, 'generations': None, 'dataset_names': ['remittances_data_q2__tcp_cleaned3.csv'], 'artifact_names': ['efae012e294746289b1d00d1be24cad4'], 'model_name': None, 'job_error': None}\n",
      "{'status': 'Requested', 'starttime': '2019-04-22T17:14:44.64079', 'endtime': None, 'percent_complete': 0, 'job_type': 'CleanDataTiny', 'loss': None, 'generations': None, 'dataset_names': ['remittances_data_q2__tcp_cleaned3.csv'], 'artifact_names': ['efae012e294746289b1d00d1be24cad4'], 'model_name': None, 'job_error': None}\n",
      "{'status': 'Requested', 'starttime': '2019-04-22T17:14:44.64079', 'endtime': None, 'percent_complete': 0, 'job_type': 'CleanDataTiny', 'loss': None, 'generations': None, 'dataset_names': ['remittances_data_q2__tcp_cleaned3.csv'], 'artifact_names': ['efae012e294746289b1d00d1be24cad4'], 'model_name': None, 'job_error': None}\n",
      "{'status': 'Requested', 'starttime': '2019-04-22T17:14:44.64079', 'endtime': None, 'percent_complete': 0, 'job_type': 'CleanDataTiny', 'loss': None, 'generations': None, 'dataset_names': ['remittances_data_q2__tcp_cleaned3.csv'], 'artifact_names': ['efae012e294746289b1d00d1be24cad4'], 'model_name': None, 'job_error': None}\n",
      "{'status': 'Requested', 'starttime': '2019-04-22T17:14:44.64079', 'endtime': None, 'percent_complete': 0, 'job_type': 'CleanDataTiny', 'loss': None, 'generations': None, 'dataset_names': ['remittances_data_q2__tcp_cleaned3.csv'], 'artifact_names': ['efae012e294746289b1d00d1be24cad4'], 'model_name': None, 'job_error': None}\n",
      "{'status': 'Requested', 'starttime': '2019-04-22T17:14:44.64079', 'endtime': None, 'percent_complete': 0, 'job_type': 'CleanDataTiny', 'loss': None, 'generations': None, 'dataset_names': ['remittances_data_q2__tcp_cleaned3.csv'], 'artifact_names': ['efae012e294746289b1d00d1be24cad4'], 'model_name': None, 'job_error': None}\n",
      "{'status': 'Requested', 'starttime': '2019-04-22T17:14:44.64079', 'endtime': None, 'percent_complete': 0, 'job_type': 'CleanDataTiny', 'loss': None, 'generations': None, 'dataset_names': ['remittances_data_q2__tcp_cleaned3.csv'], 'artifact_names': ['efae012e294746289b1d00d1be24cad4'], 'model_name': None, 'job_error': None}\n",
      "{'status': 'Requested', 'starttime': '2019-04-22T17:14:44.64079', 'endtime': None, 'percent_complete': 0, 'job_type': 'CleanDataTiny', 'loss': None, 'generations': None, 'dataset_names': ['remittances_data_q2__tcp_cleaned3.csv'], 'artifact_names': ['efae012e294746289b1d00d1be24cad4'], 'model_name': None, 'job_error': None}\n",
      "{'status': 'Requested', 'starttime': '2019-04-22T17:14:44.64079', 'endtime': None, 'percent_complete': 0, 'job_type': 'CleanDataTiny', 'loss': None, 'generations': None, 'dataset_names': ['remittances_data_q2__tcp_cleaned3.csv'], 'artifact_names': ['efae012e294746289b1d00d1be24cad4'], 'model_name': None, 'job_error': None}\n",
      "{'status': 'Requested', 'starttime': '2019-04-22T17:14:44.64079', 'endtime': None, 'percent_complete': 0, 'job_type': 'CleanDataTiny', 'loss': None, 'generations': None, 'dataset_names': ['remittances_data_q2__tcp_cleaned3.csv'], 'artifact_names': ['efae012e294746289b1d00d1be24cad4'], 'model_name': None, 'job_error': None}\n"
     ]
    },
    {
     "name": "stdout",
     "output_type": "stream",
     "text": [
      "{'status': 'Requested', 'starttime': '2019-04-22T17:14:44.64079', 'endtime': None, 'percent_complete': 0, 'job_type': 'CleanDataTiny', 'loss': None, 'generations': None, 'dataset_names': ['remittances_data_q2__tcp_cleaned3.csv'], 'artifact_names': ['efae012e294746289b1d00d1be24cad4'], 'model_name': None, 'job_error': None}\n",
      "{'status': 'Requested', 'starttime': '2019-04-22T17:14:44.64079', 'endtime': None, 'percent_complete': 0, 'job_type': 'CleanDataTiny', 'loss': None, 'generations': None, 'dataset_names': ['remittances_data_q2__tcp_cleaned3.csv'], 'artifact_names': ['efae012e294746289b1d00d1be24cad4'], 'model_name': None, 'job_error': None}\n",
      "{'status': 'Requested', 'starttime': '2019-04-22T17:14:44.64079', 'endtime': None, 'percent_complete': 0, 'job_type': 'CleanDataTiny', 'loss': None, 'generations': None, 'dataset_names': ['remittances_data_q2__tcp_cleaned3.csv'], 'artifact_names': ['efae012e294746289b1d00d1be24cad4'], 'model_name': None, 'job_error': None}\n",
      "{'status': 'Requested', 'starttime': '2019-04-22T17:14:44.64079', 'endtime': None, 'percent_complete': 0, 'job_type': 'CleanDataTiny', 'loss': None, 'generations': None, 'dataset_names': ['remittances_data_q2__tcp_cleaned3.csv'], 'artifact_names': ['efae012e294746289b1d00d1be24cad4'], 'model_name': None, 'job_error': None}\n",
      "{'status': 'Requested', 'starttime': '2019-04-22T17:14:44.64079', 'endtime': None, 'percent_complete': 0, 'job_type': 'CleanDataTiny', 'loss': None, 'generations': None, 'dataset_names': ['remittances_data_q2__tcp_cleaned3.csv'], 'artifact_names': ['efae012e294746289b1d00d1be24cad4'], 'model_name': None, 'job_error': None}\n",
      "{'status': 'Running', 'starttime': '2019-04-22T17:14:44.64079', 'endtime': None, 'percent_complete': 0, 'job_type': 'CleanDataTiny', 'loss': None, 'generations': None, 'dataset_names': ['remittances_data_q2__tcp_cleaned3.csv'], 'artifact_names': ['efae012e294746289b1d00d1be24cad4'], 'model_name': None, 'job_error': ''}\n",
      "{'status': 'Running', 'starttime': '2019-04-22T17:14:44.64079', 'endtime': None, 'percent_complete': 0, 'job_type': 'CleanDataTiny', 'loss': None, 'generations': None, 'dataset_names': ['remittances_data_q2__tcp_cleaned3.csv'], 'artifact_names': ['efae012e294746289b1d00d1be24cad4'], 'model_name': None, 'job_error': ''}\n",
      "{'status': 'Complete', 'starttime': '2019-04-22T17:14:44.64079', 'endtime': '2019-04-22T17:22:53.292981', 'percent_complete': 100, 'job_type': 'CleanDataTiny', 'loss': None, 'generations': None, 'dataset_names': ['remittances_data_q2__tcp_cleaned3.csv'], 'artifact_names': ['efae012e294746289b1d00d1be24cad4'], 'model_name': None, 'job_error': ''}\n"
     ]
    }
   ],
   "source": [
    "# clean dataset\n",
    "target = \"cc1 total cost %\"\n",
    "status, job_id = ds.clean_data(dataset_name, target=target)\n",
    "\n",
    "if status:\n",
    "    ds.wait_for_job(job_id['job_name'])\n",
    "else:\n",
    "    print(job_id)\n",
    "    \n"
   ]
  },
  {
   "cell_type": "markdown",
   "metadata": {},
   "source": [
    "## Create and Train Model"
   ]
  },
  {
   "cell_type": "code",
   "execution_count": 9,
   "metadata": {
    "scrolled": false
   },
   "outputs": [
    {
     "name": "stdout",
     "output_type": "stream",
     "text": [
      "{'status': 'Requested', 'starttime': '2019-04-22T17:37:04.344209', 'endtime': None, 'percent_complete': 0, 'job_type': 'TrainModel', 'loss': None, 'generations': 0, 'dataset_names': ['remittances_data_q2__tcp_cleaned3.csv'], 'artifact_names': None, 'model_name': 'cc1 total cost %_model5', 'job_error': None}\n",
      "{'status': 'Requested', 'starttime': '2019-04-22T17:37:04.344209', 'endtime': None, 'percent_complete': 0, 'job_type': 'TrainModel', 'loss': None, 'generations': 0, 'dataset_names': ['remittances_data_q2__tcp_cleaned3.csv'], 'artifact_names': None, 'model_name': 'cc1 total cost %_model5', 'job_error': None}\n",
      "{'status': 'Requested', 'starttime': '2019-04-22T17:37:04.344209', 'endtime': None, 'percent_complete': 0, 'job_type': 'TrainModel', 'loss': None, 'generations': 0, 'dataset_names': ['remittances_data_q2__tcp_cleaned3.csv'], 'artifact_names': None, 'model_name': 'cc1 total cost %_model5', 'job_error': None}\n",
      "{'status': 'Requested', 'starttime': '2019-04-22T17:37:04.344209', 'endtime': None, 'percent_complete': 0, 'job_type': 'TrainModel', 'loss': None, 'generations': 0, 'dataset_names': ['remittances_data_q2__tcp_cleaned3.csv'], 'artifact_names': None, 'model_name': 'cc1 total cost %_model5', 'job_error': None}\n",
      "{'status': 'Requested', 'starttime': '2019-04-22T17:37:04.344209', 'endtime': None, 'percent_complete': 0, 'job_type': 'TrainModel', 'loss': None, 'generations': 0, 'dataset_names': ['remittances_data_q2__tcp_cleaned3.csv'], 'artifact_names': None, 'model_name': 'cc1 total cost %_model5', 'job_error': None}\n",
      "{'status': 'Requested', 'starttime': '2019-04-22T17:37:04.344209', 'endtime': None, 'percent_complete': 0, 'job_type': 'TrainModel', 'loss': None, 'generations': 0, 'dataset_names': ['remittances_data_q2__tcp_cleaned3.csv'], 'artifact_names': None, 'model_name': 'cc1 total cost %_model5', 'job_error': None}\n",
      "{'status': 'Requested', 'starttime': '2019-04-22T17:37:04.344209', 'endtime': None, 'percent_complete': 0, 'job_type': 'TrainModel', 'loss': None, 'generations': 0, 'dataset_names': ['remittances_data_q2__tcp_cleaned3.csv'], 'artifact_names': None, 'model_name': 'cc1 total cost %_model5', 'job_error': None}\n",
      "{'status': 'Requested', 'starttime': '2019-04-22T17:37:04.344209', 'endtime': None, 'percent_complete': 0, 'job_type': 'TrainModel', 'loss': None, 'generations': 0, 'dataset_names': ['remittances_data_q2__tcp_cleaned3.csv'], 'artifact_names': None, 'model_name': 'cc1 total cost %_model5', 'job_error': None}\n",
      "{'status': 'Requested', 'starttime': '2019-04-22T17:37:04.344209', 'endtime': None, 'percent_complete': 0, 'job_type': 'TrainModel', 'loss': None, 'generations': 0, 'dataset_names': ['remittances_data_q2__tcp_cleaned3.csv'], 'artifact_names': None, 'model_name': 'cc1 total cost %_model5', 'job_error': None}\n",
      "{'status': 'Requested', 'starttime': '2019-04-22T17:37:04.344209', 'endtime': None, 'percent_complete': 0, 'job_type': 'TrainModel', 'loss': None, 'generations': 0, 'dataset_names': ['remittances_data_q2__tcp_cleaned3.csv'], 'artifact_names': None, 'model_name': 'cc1 total cost %_model5', 'job_error': None}\n",
      "{'status': 'Requested', 'starttime': '2019-04-22T17:37:04.344209', 'endtime': None, 'percent_complete': 0, 'job_type': 'TrainModel', 'loss': None, 'generations': 0, 'dataset_names': ['remittances_data_q2__tcp_cleaned3.csv'], 'artifact_names': None, 'model_name': 'cc1 total cost %_model5', 'job_error': None}\n",
      "{'status': 'Requested', 'starttime': '2019-04-22T17:37:04.344209', 'endtime': None, 'percent_complete': 0, 'job_type': 'TrainModel', 'loss': None, 'generations': 0, 'dataset_names': ['remittances_data_q2__tcp_cleaned3.csv'], 'artifact_names': None, 'model_name': 'cc1 total cost %_model5', 'job_error': None}\n",
      "{'status': 'Requested', 'starttime': '2019-04-22T17:37:04.344209', 'endtime': None, 'percent_complete': 0, 'job_type': 'TrainModel', 'loss': None, 'generations': 0, 'dataset_names': ['remittances_data_q2__tcp_cleaned3.csv'], 'artifact_names': None, 'model_name': 'cc1 total cost %_model5', 'job_error': None}\n",
      "{'status': 'Requested', 'starttime': '2019-04-22T17:37:04.344209', 'endtime': None, 'percent_complete': 0, 'job_type': 'TrainModel', 'loss': None, 'generations': 0, 'dataset_names': ['remittances_data_q2__tcp_cleaned3.csv'], 'artifact_names': None, 'model_name': 'cc1 total cost %_model5', 'job_error': None}\n",
      "{'status': 'Requested', 'starttime': '2019-04-22T17:37:04.344209', 'endtime': None, 'percent_complete': 0, 'job_type': 'TrainModel', 'loss': None, 'generations': 0, 'dataset_names': ['remittances_data_q2__tcp_cleaned3.csv'], 'artifact_names': None, 'model_name': 'cc1 total cost %_model5', 'job_error': None}\n",
      "{'status': 'Requested', 'starttime': '2019-04-22T17:37:04.344209', 'endtime': None, 'percent_complete': 0, 'job_type': 'TrainModel', 'loss': None, 'generations': 0, 'dataset_names': ['remittances_data_q2__tcp_cleaned3.csv'], 'artifact_names': None, 'model_name': 'cc1 total cost %_model5', 'job_error': None}\n",
      "{'status': 'Requested', 'starttime': '2019-04-22T17:37:04.344209', 'endtime': None, 'percent_complete': 0, 'job_type': 'TrainModel', 'loss': None, 'generations': 0, 'dataset_names': ['remittances_data_q2__tcp_cleaned3.csv'], 'artifact_names': None, 'model_name': 'cc1 total cost %_model5', 'job_error': None}\n",
      "{'status': 'Requested', 'starttime': '2019-04-22T17:37:04.344209', 'endtime': None, 'percent_complete': 0, 'job_type': 'TrainModel', 'loss': None, 'generations': 0, 'dataset_names': ['remittances_data_q2__tcp_cleaned3.csv'], 'artifact_names': None, 'model_name': 'cc1 total cost %_model5', 'job_error': None}\n",
      "{'status': 'Requested', 'starttime': '2019-04-22T17:37:04.344209', 'endtime': None, 'percent_complete': 0, 'job_type': 'TrainModel', 'loss': None, 'generations': 0, 'dataset_names': ['remittances_data_q2__tcp_cleaned3.csv'], 'artifact_names': None, 'model_name': 'cc1 total cost %_model5', 'job_error': None}\n",
      "{'status': 'Requested', 'starttime': '2019-04-22T17:37:04.344209', 'endtime': None, 'percent_complete': 0, 'job_type': 'TrainModel', 'loss': None, 'generations': 0, 'dataset_names': ['remittances_data_q2__tcp_cleaned3.csv'], 'artifact_names': None, 'model_name': 'cc1 total cost %_model5', 'job_error': None}\n",
      "{'status': 'Requested', 'starttime': '2019-04-22T17:37:04.344209', 'endtime': None, 'percent_complete': 0, 'job_type': 'TrainModel', 'loss': None, 'generations': 0, 'dataset_names': ['remittances_data_q2__tcp_cleaned3.csv'], 'artifact_names': None, 'model_name': 'cc1 total cost %_model5', 'job_error': None}\n",
      "{'status': 'Requested', 'starttime': '2019-04-22T17:37:04.344209', 'endtime': None, 'percent_complete': 0, 'job_type': 'TrainModel', 'loss': None, 'generations': 0, 'dataset_names': ['remittances_data_q2__tcp_cleaned3.csv'], 'artifact_names': None, 'model_name': 'cc1 total cost %_model5', 'job_error': None}\n",
      "{'status': 'Requested', 'starttime': '2019-04-22T17:37:04.344209', 'endtime': None, 'percent_complete': 0, 'job_type': 'TrainModel', 'loss': None, 'generations': 0, 'dataset_names': ['remittances_data_q2__tcp_cleaned3.csv'], 'artifact_names': None, 'model_name': 'cc1 total cost %_model5', 'job_error': None}\n",
      "{'status': 'Requested', 'starttime': '2019-04-22T17:37:04.344209', 'endtime': None, 'percent_complete': 0, 'job_type': 'TrainModel', 'loss': None, 'generations': 0, 'dataset_names': ['remittances_data_q2__tcp_cleaned3.csv'], 'artifact_names': None, 'model_name': 'cc1 total cost %_model5', 'job_error': None}\n",
      "{'status': 'Requested', 'starttime': '2019-04-22T17:37:04.344209', 'endtime': None, 'percent_complete': 0, 'job_type': 'TrainModel', 'loss': None, 'generations': 0, 'dataset_names': ['remittances_data_q2__tcp_cleaned3.csv'], 'artifact_names': None, 'model_name': 'cc1 total cost %_model5', 'job_error': None}\n",
      "{'status': 'Requested', 'starttime': '2019-04-22T17:37:04.344209', 'endtime': None, 'percent_complete': 0, 'job_type': 'TrainModel', 'loss': None, 'generations': 0, 'dataset_names': ['remittances_data_q2__tcp_cleaned3.csv'], 'artifact_names': None, 'model_name': 'cc1 total cost %_model5', 'job_error': None}\n",
      "{'status': 'Requested', 'starttime': '2019-04-22T17:37:04.344209', 'endtime': None, 'percent_complete': 0, 'job_type': 'TrainModel', 'loss': None, 'generations': 0, 'dataset_names': ['remittances_data_q2__tcp_cleaned3.csv'], 'artifact_names': None, 'model_name': 'cc1 total cost %_model5', 'job_error': None}\n"
     ]
    },
    {
     "name": "stdout",
     "output_type": "stream",
     "text": [
      "{'status': 'Requested', 'starttime': '2019-04-22T17:37:04.344209', 'endtime': None, 'percent_complete': 0, 'job_type': 'TrainModel', 'loss': None, 'generations': 0, 'dataset_names': ['remittances_data_q2__tcp_cleaned3.csv'], 'artifact_names': None, 'model_name': 'cc1 total cost %_model5', 'job_error': None}\n",
      "{'status': 'Requested', 'starttime': '2019-04-22T17:37:04.344209', 'endtime': None, 'percent_complete': 0, 'job_type': 'TrainModel', 'loss': None, 'generations': 0, 'dataset_names': ['remittances_data_q2__tcp_cleaned3.csv'], 'artifact_names': None, 'model_name': 'cc1 total cost %_model5', 'job_error': None}\n",
      "{'status': 'Requested', 'starttime': '2019-04-22T17:37:04.344209', 'endtime': None, 'percent_complete': 0, 'job_type': 'TrainModel', 'loss': None, 'generations': 0, 'dataset_names': ['remittances_data_q2__tcp_cleaned3.csv'], 'artifact_names': None, 'model_name': 'cc1 total cost %_model5', 'job_error': None}\n",
      "{'status': 'Requested', 'starttime': '2019-04-22T17:37:04.344209', 'endtime': None, 'percent_complete': 0, 'job_type': 'TrainModel', 'loss': None, 'generations': 0, 'dataset_names': ['remittances_data_q2__tcp_cleaned3.csv'], 'artifact_names': None, 'model_name': 'cc1 total cost %_model5', 'job_error': None}\n",
      "{'status': 'Requested', 'starttime': '2019-04-22T17:37:04.344209', 'endtime': None, 'percent_complete': 0, 'job_type': 'TrainModel', 'loss': None, 'generations': 0, 'dataset_names': ['remittances_data_q2__tcp_cleaned3.csv'], 'artifact_names': None, 'model_name': 'cc1 total cost %_model5', 'job_error': None}\n",
      "{'status': 'Running', 'starttime': '2019-04-22T17:37:04.344209', 'endtime': None, 'percent_complete': 0, 'job_type': 'TrainModel', 'loss': None, 'generations': 0, 'dataset_names': ['remittances_data_q2__tcp_cleaned3.csv'], 'artifact_names': None, 'model_name': 'cc1 total cost %_model5', 'job_error': ''}\n",
      "{'status': 'Running', 'starttime': '2019-04-22T17:37:04.344209', 'endtime': None, 'percent_complete': 0, 'job_type': 'TrainModel', 'loss': None, 'generations': 0, 'dataset_names': ['remittances_data_q2__tcp_cleaned3.csv'], 'artifact_names': None, 'model_name': 'cc1 total cost %_model5', 'job_error': ''}\n",
      "{'status': 'Running', 'starttime': '2019-04-22T17:37:04.344209', 'endtime': None, 'percent_complete': 0, 'job_type': 'TrainModel', 'loss': None, 'generations': 0, 'dataset_names': ['remittances_data_q2__tcp_cleaned3.csv'], 'artifact_names': None, 'model_name': 'cc1 total cost %_model5', 'job_error': ''}\n",
      "{'status': 'Running', 'starttime': '2019-04-22T17:37:04.344209', 'endtime': None, 'percent_complete': 0, 'job_type': 'TrainModel', 'loss': None, 'generations': 0, 'dataset_names': ['remittances_data_q2__tcp_cleaned3.csv'], 'artifact_names': None, 'model_name': 'cc1 total cost %_model5', 'job_error': ''}\n",
      "{'status': 'Running', 'starttime': '2019-04-22T17:37:04.344209', 'endtime': None, 'percent_complete': 0, 'job_type': 'TrainModel', 'loss': None, 'generations': 0, 'dataset_names': ['remittances_data_q2__tcp_cleaned3.csv'], 'artifact_names': None, 'model_name': 'cc1 total cost %_model5', 'job_error': ''}\n",
      "{'status': 'Running', 'starttime': '2019-04-22T17:37:04.344209', 'endtime': None, 'percent_complete': 0, 'job_type': 'TrainModel', 'loss': None, 'generations': 0, 'dataset_names': ['remittances_data_q2__tcp_cleaned3.csv'], 'artifact_names': None, 'model_name': 'cc1 total cost %_model5', 'job_error': ''}\n",
      "{'status': 'Running', 'starttime': '2019-04-22T17:37:04.344209', 'endtime': None, 'percent_complete': 0, 'job_type': 'TrainModel', 'loss': None, 'generations': 0, 'dataset_names': ['remittances_data_q2__tcp_cleaned3.csv'], 'artifact_names': None, 'model_name': 'cc1 total cost %_model5', 'job_error': ''}\n",
      "{'status': 'Running', 'starttime': '2019-04-22T17:37:04.344209', 'endtime': None, 'percent_complete': 0, 'job_type': 'TrainModel', 'loss': None, 'generations': 0, 'dataset_names': ['remittances_data_q2__tcp_cleaned3.csv'], 'artifact_names': None, 'model_name': 'cc1 total cost %_model5', 'job_error': ''}\n",
      "{'status': 'Running', 'starttime': '2019-04-22T17:37:04.344209', 'endtime': None, 'percent_complete': 0, 'job_type': 'TrainModel', 'loss': None, 'generations': 0, 'dataset_names': ['remittances_data_q2__tcp_cleaned3.csv'], 'artifact_names': None, 'model_name': 'cc1 total cost %_model5', 'job_error': ''}\n"
     ]
    }
   ],
   "source": [
    "model = target + \"_model5\"\n",
    "ds.delete_model(model)\n",
    "status, job_id = ds.create_model(dataset_names = dataset_name, \\\n",
    "                                 model_name =  model, \\\n",
    "                                 max_train_time = '00:02')\n",
    "if status:\n",
    "    ds.wait_for_job(job_id['job_name'])\n",
    "else:\n",
    "    print(job_id)"
   ]
  },
  {
   "cell_type": "code",
   "execution_count": 10,
   "metadata": {},
   "outputs": [
    {
     "name": "stdout",
     "output_type": "stream",
     "text": [
      "404: NOT FOUND - {\"message\": \"Failed to find a dataset that the model was trained on. You have requested this URI [/v1/analyze/model/cc1 total cost %_model5] but did you mean /v1/analyze/model/<model_name> ?\"}\n",
      "\n"
     ]
    },
    {
     "ename": "TypeError",
     "evalue": "string indices must be integers",
     "output_type": "error",
     "traceback": [
      "\u001b[0;31m---------------------------------------------------------------------------\u001b[0m",
      "\u001b[0;31mTypeError\u001b[0m                                 Traceback (most recent call last)",
      "\u001b[0;32m<ipython-input-10-9feec7a755ba>\u001b[0m in \u001b[0;36m<module>\u001b[0;34m\u001b[0m\n\u001b[1;32m      6\u001b[0m \u001b[0;32melse\u001b[0m\u001b[0;34m:\u001b[0m\u001b[0;34m\u001b[0m\u001b[0;34m\u001b[0m\u001b[0m\n\u001b[1;32m      7\u001b[0m     \u001b[0mprint\u001b[0m\u001b[0;34m(\u001b[0m\u001b[0martifact\u001b[0m\u001b[0;34m)\u001b[0m\u001b[0;34m\u001b[0m\u001b[0;34m\u001b[0m\u001b[0m\n\u001b[0;32m----> 8\u001b[0;31m \u001b[0mstatus\u001b[0m\u001b[0;34m,\u001b[0m \u001b[0mfeature_importance\u001b[0m \u001b[0;34m=\u001b[0m \u001b[0mds\u001b[0m\u001b[0;34m.\u001b[0m\u001b[0mdownload_artifact\u001b[0m\u001b[0;34m(\u001b[0m\u001b[0martifact\u001b[0m\u001b[0;34m[\u001b[0m\u001b[0;34m'artifact_name'\u001b[0m\u001b[0;34m]\u001b[0m\u001b[0;34m)\u001b[0m\u001b[0;34m\u001b[0m\u001b[0;34m\u001b[0m\u001b[0m\n\u001b[0m",
      "\u001b[0;31mTypeError\u001b[0m: string indices must be integers"
     ]
    }
   ],
   "source": [
    "# Retrieve feature importance of built model\n",
    "status, artifact = ds.analyze_model(model)\n",
    "sleep(1)\n",
    "if status:\n",
    "    ds.wait_for_job(artifact['job_name'])\n",
    "else:\n",
    "    print(artifact)\n",
    "status, feature_importance = ds.download_artifact(artifact['artifact_name'])"
   ]
  },
  {
   "cell_type": "code",
   "execution_count": null,
   "metadata": {},
   "outputs": [],
   "source": [
    "feature_importance[:10]"
   ]
  },
  {
   "cell_type": "markdown",
   "metadata": {},
   "source": [
    "## Analyze Data"
   ]
  },
  {
   "cell_type": "markdown",
   "metadata": {},
   "source": [
    "**Model Prediction**"
   ]
  },
  {
   "cell_type": "code",
   "execution_count": null,
   "metadata": {},
   "outputs": [],
   "source": [
    "#print (dataset_name)\n",
    "#print (model)\n",
    "status, artifact = ds.run_model(dataset_name, model)\n",
    "#print (status)\n",
    "#print (run_id)\n",
    "sleep(1)\n",
    "ds.wait_for_job(artifact['job_name'])"
   ]
  },
  {
   "cell_type": "markdown",
   "metadata": {},
   "source": [
    "**Get Predictions from Darwin**"
   ]
  },
  {
   "cell_type": "code",
   "execution_count": null,
   "metadata": {},
   "outputs": [],
   "source": [
    "status, prediction = ds.download_artifact(artifact['artifact_name'])\n",
    "prediction.head()"
   ]
  },
  {
   "cell_type": "code",
   "execution_count": null,
   "metadata": {},
   "outputs": [],
   "source": [
    "#Plot predictions vs actual\n",
    "print(len(prediction[target]))\n",
    "\n",
    "plt.plot(df[target], prediction[target], '.')\n",
    "plt.plot([0,2.3e7],[0,2.3e7],'--k')\n",
    "plt.show()\n",
    "print('R^2 : ', r2_score(df[target], prediction[target]))"
   ]
  },
  {
   "cell_type": "code",
   "execution_count": null,
   "metadata": {},
   "outputs": [],
   "source": []
  },
  {
   "cell_type": "code",
   "execution_count": null,
   "metadata": {},
   "outputs": [],
   "source": []
  }
 ],
 "metadata": {
  "kernelspec": {
   "display_name": "Python 3",
   "language": "python",
   "name": "python3"
  },
  "language_info": {
   "codemirror_mode": {
    "name": "ipython",
    "version": 3
   },
   "file_extension": ".py",
   "mimetype": "text/x-python",
   "name": "python",
   "nbconvert_exporter": "python",
   "pygments_lexer": "ipython3",
   "version": "3.7.1"
  }
 },
 "nbformat": 4,
 "nbformat_minor": 2
}
