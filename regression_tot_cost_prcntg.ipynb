{
 "cells": [
  {
   "cell_type": "markdown",
   "metadata": {},
   "source": [
    "## Setup"
   ]
  },
  {
   "cell_type": "markdown",
   "metadata": {},
   "source": [
    "**Import Statements**"
   ]
  },
  {
   "cell_type": "code",
   "execution_count": 1,
   "metadata": {},
   "outputs": [],
   "source": [
    "import os\n",
    "import matplotlib.pyplot as plt\n",
    "import pandas as pd\n",
    "from time import sleep\n",
    "from sklearn.metrics import r2_score\n",
    "from amb_sdk.sdk import DarwinSdk"
   ]
  },
  {
   "cell_type": "markdown",
   "metadata": {},
   "source": [
    "**Connection to Darwin**"
   ]
  },
  {
   "cell_type": "code",
   "execution_count": 2,
   "metadata": {},
   "outputs": [],
   "source": [
    "# Login\n",
    "ds = DarwinSdk()\n",
    "ds.set_url('https://amb-demo-api.sparkcognition.com/v1/')\n",
    "status, msg = ds.auth_login_user('mprost@utexas.edu', 'FbSnZ663sf')\n",
    "\n",
    "if not status:\n",
    "    print(msg)\n"
   ]
  },
  {
   "cell_type": "markdown",
   "metadata": {},
   "source": [
    "**Setup Path**"
   ]
  },
  {
   "cell_type": "code",
   "execution_count": 3,
   "metadata": {},
   "outputs": [],
   "source": [
    "path = './sets/'"
   ]
  },
  {
   "cell_type": "markdown",
   "metadata": {},
   "source": [
    "## Upload and Read Data"
   ]
  },
  {
   "cell_type": "markdown",
   "metadata": {},
   "source": [
    "**Read Data**"
   ]
  },
  {
   "cell_type": "code",
   "execution_count": 31,
   "metadata": {},
   "outputs": [
    {
     "name": "stderr",
     "output_type": "stream",
     "text": [
      "/Users/Matt/anaconda3/lib/python3.7/site-packages/IPython/core/interactiveshell.py:3020: DtypeWarning: Columns (36) have mixed types. Specify dtype option on import or set low_memory=False.\n",
      "  interactivity=interactivity, compiler=compiler, result=result)\n"
     ]
    },
    {
     "data": {
      "text/html": [
       "<div>\n",
       "<style scoped>\n",
       "    .dataframe tbody tr th:only-of-type {\n",
       "        vertical-align: middle;\n",
       "    }\n",
       "\n",
       "    .dataframe tbody tr th {\n",
       "        vertical-align: top;\n",
       "    }\n",
       "\n",
       "    .dataframe thead th {\n",
       "        text-align: right;\n",
       "    }\n",
       "</style>\n",
       "<table border=\"1\" class=\"dataframe\">\n",
       "  <thead>\n",
       "    <tr style=\"text-align: right;\">\n",
       "      <th></th>\n",
       "      <th>id</th>\n",
       "      <th>period</th>\n",
       "      <th>source_code</th>\n",
       "      <th>source_name</th>\n",
       "      <th>source_region</th>\n",
       "      <th>source_income</th>\n",
       "      <th>source_lending</th>\n",
       "      <th>source_G8G20</th>\n",
       "      <th>destination_code</th>\n",
       "      <th>destination_name</th>\n",
       "      <th>...</th>\n",
       "      <th>cc2 fx margin</th>\n",
       "      <th>cc2 total cost %</th>\n",
       "      <th>inter lcu bank fx</th>\n",
       "      <th>transparent</th>\n",
       "      <th>Standard Note</th>\n",
       "      <th>note2</th>\n",
       "      <th>receiving network coverage</th>\n",
       "      <th>pickup method</th>\n",
       "      <th>date</th>\n",
       "      <th>corridor</th>\n",
       "    </tr>\n",
       "  </thead>\n",
       "  <tbody>\n",
       "    <tr>\n",
       "      <th>0</th>\n",
       "      <td>620160001</td>\n",
       "      <td>2016_2Q</td>\n",
       "      <td>AGO</td>\n",
       "      <td>Angola</td>\n",
       "      <td>Sub-Saharan Africa</td>\n",
       "      <td>Lower middle income</td>\n",
       "      <td>IBRD</td>\n",
       "      <td>..</td>\n",
       "      <td>NAM</td>\n",
       "      <td>Namibia</td>\n",
       "      <td>...</td>\n",
       "      <td>7.49</td>\n",
       "      <td>14.36</td>\n",
       "      <td>0.09</td>\n",
       "      <td>yes</td>\n",
       "      <td>NaN</td>\n",
       "      <td>NaN</td>\n",
       "      <td>High</td>\n",
       "      <td>Agent</td>\n",
       "      <td>11/May/2016</td>\n",
       "      <td>AGONAM</td>\n",
       "    </tr>\n",
       "    <tr>\n",
       "      <th>1</th>\n",
       "      <td>620160002</td>\n",
       "      <td>2016_2Q</td>\n",
       "      <td>AGO</td>\n",
       "      <td>Angola</td>\n",
       "      <td>Sub-Saharan Africa</td>\n",
       "      <td>Lower middle income</td>\n",
       "      <td>IBRD</td>\n",
       "      <td>..</td>\n",
       "      <td>NAM</td>\n",
       "      <td>Namibia</td>\n",
       "      <td>...</td>\n",
       "      <td>4.19</td>\n",
       "      <td>11.78</td>\n",
       "      <td>0.09</td>\n",
       "      <td>yes</td>\n",
       "      <td>NaN</td>\n",
       "      <td>NaN</td>\n",
       "      <td>High</td>\n",
       "      <td>Agent</td>\n",
       "      <td>11/May/2016</td>\n",
       "      <td>AGONAM</td>\n",
       "    </tr>\n",
       "    <tr>\n",
       "      <th>2</th>\n",
       "      <td>620160003</td>\n",
       "      <td>2016_2Q</td>\n",
       "      <td>AGO</td>\n",
       "      <td>Angola</td>\n",
       "      <td>Sub-Saharan Africa</td>\n",
       "      <td>Lower middle income</td>\n",
       "      <td>IBRD</td>\n",
       "      <td>..</td>\n",
       "      <td>NAM</td>\n",
       "      <td>Namibia</td>\n",
       "      <td>...</td>\n",
       "      <td>0.00</td>\n",
       "      <td>10.93</td>\n",
       "      <td>1.00</td>\n",
       "      <td>no</td>\n",
       "      <td>This RSP is not transparent: the exchange rate...</td>\n",
       "      <td>NaN</td>\n",
       "      <td>Low</td>\n",
       "      <td>NaN</td>\n",
       "      <td>11/May/2016</td>\n",
       "      <td>AGONAM</td>\n",
       "    </tr>\n",
       "    <tr>\n",
       "      <th>3</th>\n",
       "      <td>620160004</td>\n",
       "      <td>2016_2Q</td>\n",
       "      <td>ARE</td>\n",
       "      <td>United Arab Emirates</td>\n",
       "      <td>Middle East &amp; North Africa</td>\n",
       "      <td>High income</td>\n",
       "      <td>..</td>\n",
       "      <td>..</td>\n",
       "      <td>BGD</td>\n",
       "      <td>Bangladesh</td>\n",
       "      <td>...</td>\n",
       "      <td>0.08</td>\n",
       "      <td>1.17</td>\n",
       "      <td>21.34</td>\n",
       "      <td>yes</td>\n",
       "      <td>NaN</td>\n",
       "      <td>NaN</td>\n",
       "      <td>High</td>\n",
       "      <td>Agent</td>\n",
       "      <td>09/May/2016</td>\n",
       "      <td>AREBGD</td>\n",
       "    </tr>\n",
       "    <tr>\n",
       "      <th>4</th>\n",
       "      <td>620160005</td>\n",
       "      <td>2016_2Q</td>\n",
       "      <td>ARE</td>\n",
       "      <td>United Arab Emirates</td>\n",
       "      <td>Middle East &amp; North Africa</td>\n",
       "      <td>High income</td>\n",
       "      <td>..</td>\n",
       "      <td>..</td>\n",
       "      <td>BGD</td>\n",
       "      <td>Bangladesh</td>\n",
       "      <td>...</td>\n",
       "      <td>0.13</td>\n",
       "      <td>0.95</td>\n",
       "      <td>21.34</td>\n",
       "      <td>yes</td>\n",
       "      <td>NaN</td>\n",
       "      <td>NaN</td>\n",
       "      <td>High</td>\n",
       "      <td>Agent</td>\n",
       "      <td>09/May/2016</td>\n",
       "      <td>AREBGD</td>\n",
       "    </tr>\n",
       "  </tbody>\n",
       "</table>\n",
       "<p>5 rows × 41 columns</p>\n",
       "</div>"
      ],
      "text/plain": [
       "          id   period source_code           source_name  \\\n",
       "0  620160001  2016_2Q         AGO                Angola   \n",
       "1  620160002  2016_2Q         AGO                Angola   \n",
       "2  620160003  2016_2Q         AGO                Angola   \n",
       "3  620160004  2016_2Q         ARE  United Arab Emirates   \n",
       "4  620160005  2016_2Q         ARE  United Arab Emirates   \n",
       "\n",
       "                source_region        source_income source_lending  \\\n",
       "0          Sub-Saharan Africa  Lower middle income           IBRD   \n",
       "1          Sub-Saharan Africa  Lower middle income           IBRD   \n",
       "2          Sub-Saharan Africa  Lower middle income           IBRD   \n",
       "3  Middle East & North Africa          High income             ..   \n",
       "4  Middle East & North Africa          High income             ..   \n",
       "\n",
       "  source_G8G20 destination_code destination_name    ...    cc2 fx margin  \\\n",
       "0           ..              NAM          Namibia    ...             7.49   \n",
       "1           ..              NAM          Namibia    ...             4.19   \n",
       "2           ..              NAM          Namibia    ...             0.00   \n",
       "3           ..              BGD       Bangladesh    ...             0.08   \n",
       "4           ..              BGD       Bangladesh    ...             0.13   \n",
       "\n",
       "  cc2 total cost % inter lcu bank fx transparent  \\\n",
       "0            14.36              0.09         yes   \n",
       "1            11.78              0.09         yes   \n",
       "2            10.93              1.00          no   \n",
       "3             1.17             21.34         yes   \n",
       "4             0.95             21.34         yes   \n",
       "\n",
       "                                       Standard Note note2  \\\n",
       "0                                                NaN   NaN   \n",
       "1                                                NaN   NaN   \n",
       "2  This RSP is not transparent: the exchange rate...   NaN   \n",
       "3                                                NaN   NaN   \n",
       "4                                                NaN   NaN   \n",
       "\n",
       "  receiving network coverage pickup method         date  corridor  \n",
       "0                       High         Agent  11/May/2016    AGONAM  \n",
       "1                       High         Agent  11/May/2016    AGONAM  \n",
       "2                        Low           NaN  11/May/2016    AGONAM  \n",
       "3                       High         Agent  09/May/2016    AREBGD  \n",
       "4                       High         Agent  09/May/2016    AREBGD  \n",
       "\n",
       "[5 rows x 41 columns]"
      ]
     },
     "execution_count": 31,
     "metadata": {},
     "output_type": "execute_result"
    }
   ],
   "source": [
    "dataset_name = 'remittances_data_q2.csv'\n",
    "df = pd.read_csv(os.path.join(path, dataset_name))\n",
    "df.head()"
   ]
  },
  {
   "cell_type": "markdown",
   "metadata": {},
   "source": [
    "**Upload to Darwin**"
   ]
  },
  {
   "cell_type": "code",
   "execution_count": 69,
   "metadata": {},
   "outputs": [],
   "source": [
    "# Upload dataset\n",
    "status, message = ds.delete_dataset(dataset_name)\n",
    "status, dataset = ds.upload_dataset(os.path.join(path, dataset_name))\n",
    "if not status:\n",
    "    print(dataset)"
   ]
  },
  {
   "cell_type": "markdown",
   "metadata": {},
   "source": [
    "## Clean Data"
   ]
  },
  {
   "cell_type": "code",
   "execution_count": 70,
   "metadata": {},
   "outputs": [
    {
     "name": "stdout",
     "output_type": "stream",
     "text": [
      "{'status': 'Requested', 'starttime': '2019-04-20T23:35:00.984645', 'endtime': None, 'percent_complete': 0, 'job_type': 'CleanDataTiny', 'loss': None, 'generations': None, 'dataset_names': ['remittances_data_q2.csv'], 'artifact_names': ['bfc8efe6948941ca93d2680d842b092e'], 'model_name': None, 'job_error': None}\n",
      "{'status': 'Running', 'starttime': '2019-04-20T23:35:00.984645', 'endtime': None, 'percent_complete': 0, 'job_type': 'CleanDataTiny', 'loss': None, 'generations': None, 'dataset_names': ['remittances_data_q2.csv'], 'artifact_names': ['bfc8efe6948941ca93d2680d842b092e'], 'model_name': None, 'job_error': ''}\n",
      "{'status': 'Running', 'starttime': '2019-04-20T23:35:00.984645', 'endtime': None, 'percent_complete': 0, 'job_type': 'CleanDataTiny', 'loss': None, 'generations': None, 'dataset_names': ['remittances_data_q2.csv'], 'artifact_names': ['bfc8efe6948941ca93d2680d842b092e'], 'model_name': None, 'job_error': ''}\n",
      "{'status': 'Complete', 'starttime': '2019-04-20T23:35:00.984645', 'endtime': '2019-04-20T23:35:40.52429', 'percent_complete': 100, 'job_type': 'CleanDataTiny', 'loss': None, 'generations': None, 'dataset_names': ['remittances_data_q2.csv'], 'artifact_names': ['bfc8efe6948941ca93d2680d842b092e'], 'model_name': None, 'job_error': ''}\n"
     ]
    }
   ],
   "source": [
    "# clean dataset\n",
    "target = \"cc1 total cost %\"\n",
    "status, job_id = ds.clean_data(dataset_name, target=target)\n",
    "\n",
    "if status:\n",
    "    ds.wait_for_job(job_id['job_name'])\n",
    "else:\n",
    "    print(job_id)\n",
    "    \n"
   ]
  },
  {
   "cell_type": "markdown",
   "metadata": {},
   "source": [
    "## Create and Train Model"
   ]
  },
  {
   "cell_type": "code",
   "execution_count": 58,
   "metadata": {},
   "outputs": [
    {
     "name": "stdout",
     "output_type": "stream",
     "text": [
      "{'status': 'Requested', 'starttime': '2019-04-20T23:17:17.524073', 'endtime': None, 'percent_complete': 0, 'job_type': 'TrainModel', 'loss': None, 'generations': 0, 'dataset_names': ['remittances_data_q2.csv'], 'artifact_names': None, 'model_name': 'cc1 total cost %_model0', 'job_error': None}\n",
      "{'status': 'Running', 'starttime': '2019-04-20T23:17:17.524073', 'endtime': None, 'percent_complete': 0, 'job_type': 'TrainModel', 'loss': None, 'generations': 0, 'dataset_names': ['remittances_data_q2.csv'], 'artifact_names': None, 'model_name': 'cc1 total cost %_model0', 'job_error': ''}\n",
      "{'status': 'Running', 'starttime': '2019-04-20T23:17:17.524073', 'endtime': None, 'percent_complete': 0, 'job_type': 'TrainModel', 'loss': None, 'generations': 0, 'dataset_names': ['remittances_data_q2.csv'], 'artifact_names': None, 'model_name': 'cc1 total cost %_model0', 'job_error': ''}\n",
      "{'status': 'Running', 'starttime': '2019-04-20T23:17:17.524073', 'endtime': None, 'percent_complete': 0, 'job_type': 'TrainModel', 'loss': None, 'generations': 0, 'dataset_names': ['remittances_data_q2.csv'], 'artifact_names': None, 'model_name': 'cc1 total cost %_model0', 'job_error': ''}\n",
      "{'status': 'Running', 'starttime': '2019-04-20T23:17:17.524073', 'endtime': None, 'percent_complete': 0, 'job_type': 'TrainModel', 'loss': None, 'generations': 0, 'dataset_names': ['remittances_data_q2.csv'], 'artifact_names': None, 'model_name': 'cc1 total cost %_model0', 'job_error': ''}\n",
      "{'status': 'Running', 'starttime': '2019-04-20T23:17:17.524073', 'endtime': None, 'percent_complete': 0, 'job_type': 'TrainModel', 'loss': None, 'generations': 0, 'dataset_names': ['remittances_data_q2.csv'], 'artifact_names': None, 'model_name': 'cc1 total cost %_model0', 'job_error': ''}\n",
      "{'status': 'Running', 'starttime': '2019-04-20T23:17:17.524073', 'endtime': None, 'percent_complete': 0, 'job_type': 'TrainModel', 'loss': None, 'generations': 0, 'dataset_names': ['remittances_data_q2.csv'], 'artifact_names': None, 'model_name': 'cc1 total cost %_model0', 'job_error': ''}\n",
      "{'status': 'Running', 'starttime': '2019-04-20T23:17:17.524073', 'endtime': None, 'percent_complete': 0, 'job_type': 'TrainModel', 'loss': None, 'generations': 0, 'dataset_names': ['remittances_data_q2.csv'], 'artifact_names': None, 'model_name': 'cc1 total cost %_model0', 'job_error': ''}\n",
      "{'status': 'Running', 'starttime': '2019-04-20T23:17:17.524073', 'endtime': None, 'percent_complete': 0, 'job_type': 'TrainModel', 'loss': None, 'generations': 0, 'dataset_names': ['remittances_data_q2.csv'], 'artifact_names': None, 'model_name': 'cc1 total cost %_model0', 'job_error': ''}\n",
      "{'status': 'Failed', 'starttime': '2019-04-20T23:17:17.524073', 'endtime': '2019-04-20T23:19:26.996238', 'percent_complete': 100, 'job_type': 'TrainModel', 'loss': None, 'generations': 0, 'dataset_names': ['remittances_data_q2.csv'], 'artifact_names': None, 'model_name': 'cc1 total cost %_model0', 'job_error': ''}\n"
     ]
    }
   ],
   "source": [
    "model = target + \"_model0\"\n",
    "ds.delete_model(model)\n",
    "status, job_id = ds.create_model(dataset_names = dataset_name, \\\n",
    "                                 model_name =  model, \\\n",
    "                                 max_train_time = '00:02')\n",
    "if status:\n",
    "    ds.wait_for_job(job_id['job_name'])\n",
    "else:\n",
    "    print(job_id)"
   ]
  },
  {
   "cell_type": "code",
   "execution_count": 67,
   "metadata": {},
   "outputs": [
    {
     "name": "stdout",
     "output_type": "stream",
     "text": [
      "{'status': 'Running', 'starttime': '2019-04-20T23:33:32.464342', 'endtime': None, 'percent_complete': 0, 'job_type': 'AnalyzeModel', 'loss': None, 'generations': 0, 'dataset_names': None, 'artifact_names': ['bc05bcc450ae42a88cd05f53cf2b7f4e'], 'model_name': 'cc1 total cost %_model0', 'job_error': ''}\n",
      "{'status': 'Complete', 'starttime': '2019-04-20T23:33:32.464342', 'endtime': '2019-04-20T23:33:42.207201', 'percent_complete': 100, 'job_type': 'AnalyzeModel', 'loss': None, 'generations': 0, 'dataset_names': None, 'artifact_names': ['bc05bcc450ae42a88cd05f53cf2b7f4e'], 'model_name': 'cc1 total cost %_model0', 'job_error': ''}\n"
     ]
    }
   ],
   "source": [
    "# Retrieve feature importance of built model\n",
    "status, artifact = ds.analyze_model(model)\n",
    "sleep(1)\n",
    "if status:\n",
    "    ds.wait_for_job(artifact['job_name'])\n",
    "else:\n",
    "    print(artifact)\n",
    "status, feature_importance = ds.download_artifact(artifact['artifact_name'])"
   ]
  },
  {
   "cell_type": "code",
   "execution_count": 62,
   "metadata": {},
   "outputs": [
    {
     "data": {
      "text/plain": [
       "cc2 total cost %                          0.803116\n",
       "cc1 lcu fee                               0.074618\n",
       "firm_type = Money Transfer Operator       0.051828\n",
       "cc2 lcu fee                               0.011829\n",
       "cc2 fx margin                             0.010887\n",
       "cc1 fx margin                             0.009801\n",
       "cc2 lcu amount                            0.006971\n",
       "access point = Bank branch,Call Center    0.003915\n",
       "cc1 lcu amount                            0.003798\n",
       "speed actual = Less than one hour         0.002624\n",
       "dtype: float64"
      ]
     },
     "execution_count": 62,
     "metadata": {},
     "output_type": "execute_result"
    }
   ],
   "source": [
    "feature_importance[:10]"
   ]
  },
  {
   "cell_type": "markdown",
   "metadata": {},
   "source": [
    "## Analyze Data"
   ]
  },
  {
   "cell_type": "markdown",
   "metadata": {},
   "source": [
    "**Model Prediction**"
   ]
  },
  {
   "cell_type": "code",
   "execution_count": 73,
   "metadata": {},
   "outputs": [
    {
     "name": "stdout",
     "output_type": "stream",
     "text": [
      "remittances_data_q2.csv\n",
      "cc1 total cost %_model0\n",
      "False\n",
      "400: Bad Request - <html>\n",
      "<head><title>400 Bad Request</title></head>\n",
      "<body>\n",
      "<center><h1>400 Bad Request</h1></center>\n",
      "<hr><center>nginx</center>\n",
      "</body>\n",
      "</html>\n",
      "\n"
     ]
    },
    {
     "ename": "TypeError",
     "evalue": "string indices must be integers",
     "output_type": "error",
     "traceback": [
      "\u001b[0;31m---------------------------------------------------------------------------\u001b[0m",
      "\u001b[0;31mTypeError\u001b[0m                                 Traceback (most recent call last)",
      "\u001b[0;32m<ipython-input-73-c14615aac3b5>\u001b[0m in \u001b[0;36m<module>\u001b[0;34m\u001b[0m\n\u001b[1;32m      5\u001b[0m \u001b[0mprint\u001b[0m \u001b[0;34m(\u001b[0m\u001b[0martifact\u001b[0m\u001b[0;34m)\u001b[0m\u001b[0;34m\u001b[0m\u001b[0;34m\u001b[0m\u001b[0m\n\u001b[1;32m      6\u001b[0m \u001b[0msleep\u001b[0m\u001b[0;34m(\u001b[0m\u001b[0;36m1\u001b[0m\u001b[0;34m)\u001b[0m\u001b[0;34m\u001b[0m\u001b[0;34m\u001b[0m\u001b[0m\n\u001b[0;32m----> 7\u001b[0;31m \u001b[0mds\u001b[0m\u001b[0;34m.\u001b[0m\u001b[0mwait_for_job\u001b[0m\u001b[0;34m(\u001b[0m\u001b[0martifact\u001b[0m\u001b[0;34m[\u001b[0m\u001b[0;34m'job_name'\u001b[0m\u001b[0;34m]\u001b[0m\u001b[0;34m)\u001b[0m\u001b[0;34m\u001b[0m\u001b[0;34m\u001b[0m\u001b[0m\n\u001b[0m\u001b[1;32m      8\u001b[0m '''print (artifact)\n\u001b[1;32m      9\u001b[0m \u001b[0mstatus\u001b[0m\u001b[0;34m,\u001b[0m \u001b[0martifact1\u001b[0m \u001b[0;34m=\u001b[0m \u001b[0mds\u001b[0m\u001b[0;34m.\u001b[0m\u001b[0mrun_model\u001b[0m\u001b[0;34m(\u001b[0m\u001b[0mdataset_name\u001b[0m\u001b[0;34m,\u001b[0m \u001b[0mmodel\u001b[0m\u001b[0;34m)\u001b[0m\u001b[0;34m\u001b[0m\u001b[0;34m\u001b[0m\u001b[0m\n",
      "\u001b[0;31mTypeError\u001b[0m: string indices must be integers"
     ]
    }
   ],
   "source": [
    "print (dataset_name)\n",
    "print (model)\n",
    "status, artifact = ds.run_model(dataset_name, model)\n",
    "print (status)\n",
    "print (artifact)\n",
    "sleep(1)\n",
    "ds.wait_for_job(artifact['job_name'])\n",
    "'''print (artifact)\n",
    "status, artifact1 = ds.run_model(dataset_name, model)\n",
    "\n",
    "#sleep(1)\n",
    "#if status:\n",
    "#    ds.wait_for_job(artifact['job_name'])\n",
    "#else:\n",
    "#    print(artifact)\n",
    "\n",
    "#ds.wait_for_job(artifact['job_name'])\n",
    "print (status)\n",
    "print (artifact1)'''"
   ]
  },
  {
   "cell_type": "markdown",
   "metadata": {},
   "source": [
    "**Get Predictions from Darwin**"
   ]
  },
  {
   "cell_type": "code",
   "execution_count": 52,
   "metadata": {},
   "outputs": [
    {
     "ename": "TypeError",
     "evalue": "string indices must be integers",
     "output_type": "error",
     "traceback": [
      "\u001b[0;31m---------------------------------------------------------------------------\u001b[0m",
      "\u001b[0;31mTypeError\u001b[0m                                 Traceback (most recent call last)",
      "\u001b[0;32m<ipython-input-52-e3743a8625a2>\u001b[0m in \u001b[0;36m<module>\u001b[0;34m\u001b[0m\n\u001b[0;32m----> 1\u001b[0;31m \u001b[0mstatus\u001b[0m\u001b[0;34m,\u001b[0m \u001b[0mprediction\u001b[0m \u001b[0;34m=\u001b[0m \u001b[0mds\u001b[0m\u001b[0;34m.\u001b[0m\u001b[0mdownload_artifact\u001b[0m\u001b[0;34m(\u001b[0m\u001b[0martifact\u001b[0m\u001b[0;34m[\u001b[0m\u001b[0;34m'artifact_name'\u001b[0m\u001b[0;34m]\u001b[0m\u001b[0;34m)\u001b[0m\u001b[0;34m\u001b[0m\u001b[0;34m\u001b[0m\u001b[0m\n\u001b[0m\u001b[1;32m      2\u001b[0m \u001b[0mprediction\u001b[0m\u001b[0;34m.\u001b[0m\u001b[0mhead\u001b[0m\u001b[0;34m(\u001b[0m\u001b[0;34m)\u001b[0m\u001b[0;34m\u001b[0m\u001b[0;34m\u001b[0m\u001b[0m\n",
      "\u001b[0;31mTypeError\u001b[0m: string indices must be integers"
     ]
    }
   ],
   "source": [
    "status, prediction = ds.download_artifact(artifact['artifact_name'])\n",
    "prediction.head()"
   ]
  },
  {
   "cell_type": "code",
   "execution_count": null,
   "metadata": {},
   "outputs": [],
   "source": [
    "#Plot predictions vs actual\n",
    "print(len(prediction[target]))\n",
    "#print(prediction[target][0])\n",
    "prediction[target] = prediction[target].replace('Less than one hour', 0.05)\n",
    "df[target] = df[target].replace('Less than one hour', 0.05)\n",
    "prediction[target] = prediction[target].replace('Same day', 1)\n",
    "df[target] = df[target].replace('Same day', 1)\n",
    "prediction[target] = prediction[target].replace('Next day', 2)\n",
    "df[target] = df[target].replace('Next day', 2)\n",
    "prediction[target] = prediction[target].replace('2 days', 3)\n",
    "df[target] = df[target].replace('2 days', 3)\n",
    "prediction[target] = prediction[target].replace('3-5 days', 4)\n",
    "df[target] = df[target].replace('3-5 days', 4)\n",
    "prediction[target] = prediction[target].replace('6 days or more', 7)\n",
    "df[target] = df[target].replace('6 days or more', 7)\n",
    "#print(prediction[target][0])\n",
    "#prediction[target].replace(\"Less than one hour\", 0.05)\n",
    "#prediction[target].replace(\"Less than one hour\", 0.05)\n",
    "#for i in range(0, 4574):\n",
    "#    if prediction[target][i] == \"Less than one hour\":\n",
    "#        prediction[target][i] = 0.05\n",
    "plt.plot(df[target], prediction[target], '.')\n",
    "plt.plot([0,2.3e7],[0,2.3e7],'--k')\n",
    "plt.show()\n",
    "print('R^2 : ', r2_score(df[target], prediction[target]))"
   ]
  },
  {
   "cell_type": "code",
   "execution_count": null,
   "metadata": {},
   "outputs": [],
   "source": []
  },
  {
   "cell_type": "code",
   "execution_count": null,
   "metadata": {},
   "outputs": [],
   "source": []
  }
 ],
 "metadata": {
  "kernelspec": {
   "display_name": "Python 3",
   "language": "python",
   "name": "python3"
  },
  "language_info": {
   "codemirror_mode": {
    "name": "ipython",
    "version": 3
   },
   "file_extension": ".py",
   "mimetype": "text/x-python",
   "name": "python",
   "nbconvert_exporter": "python",
   "pygments_lexer": "ipython3",
   "version": "3.7.1"
  }
 },
 "nbformat": 4,
 "nbformat_minor": 2
}
